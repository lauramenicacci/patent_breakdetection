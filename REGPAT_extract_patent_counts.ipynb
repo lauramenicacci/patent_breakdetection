{
  "nbformat": 4,
  "nbformat_minor": 0,
  "metadata": {
    "colab": {
      "provenance": [],
      "mount_file_id": "1HHnOTJlD-wwWdsATbOWX6MhavWtUcDaa",
      "authorship_tag": "ABX9TyNsbFM2zmjphJASRPOc4nAg",
      "include_colab_link": true
    },
    "kernelspec": {
      "name": "python3",
      "display_name": "Python 3"
    },
    "language_info": {
      "name": "python"
    }
  },
  "cells": [
    {
      "cell_type": "markdown",
      "metadata": {
        "id": "view-in-github",
        "colab_type": "text"
      },
      "source": [
        "<a href=\"https://colab.research.google.com/github/lauramenicacci/patent_breakdetection/blob/main/REGPAT_extract_patent_counts.ipynb\" target=\"_parent\"><img src=\"https://colab.research.google.com/assets/colab-badge.svg\" alt=\"Open In Colab\"/></a>"
      ]
    },
    {
      "cell_type": "markdown",
      "source": [
        "# Data collection from OECD Patent Database\n",
        "\n",
        "Collect disaggregated patent raw data from OECD STI [Micro-data Lab](https://www.oecd.org/sti/intellectual-property-statistics-and-analysis.htmOECD/STI). \n",
        "\n",
        "* OECD REGPAT DATABASE - EPO & PCT Patent Applications at Regional Level"
      ],
      "metadata": {
        "id": "fOWYBCh4tMN6"
      }
    },
    {
      "cell_type": "code",
      "source": [
        "from google.colab import drive\n",
        "drive.mount('/content/drive')"
      ],
      "metadata": {
        "id": "YDWJJBfPuN4E"
      },
      "execution_count": null,
      "outputs": []
    },
    {
      "cell_type": "markdown",
      "source": [
        "#### Import libraries "
      ],
      "metadata": {
        "id": "m-FLYo1KtRRE"
      }
    },
    {
      "cell_type": "code",
      "source": [
        "import os \n",
        "import pandas as pd\n",
        "import numpy as np\n",
        "import seaborn as sns\n",
        "import matplotlib.pyplot as plt\n"
      ],
      "metadata": {
        "id": "OksikNxjtO_L"
      },
      "execution_count": null,
      "outputs": []
    },
    {
      "cell_type": "markdown",
      "source": [
        " ## REGPAT - EPO \n",
        " \n",
        "Collect regional patent data filed at the EPO.\n",
        " - State level \n",
        " - TL2 regional classification (CITE OECD) \n",
        " - 51 regions "
      ],
      "metadata": {
        "id": "LjQw1yZDthXz"
      }
    },
    {
      "cell_type": "code",
      "source": [
        "regpat_regions = pd.read_csv('/content/REGPAT_REGIONS.txt', encoding = 'utf-8', sep = \"|\") # table with description of regional codes "
      ],
      "metadata": {
        "id": "jKgD85JNtWNq"
      },
      "execution_count": null,
      "outputs": []
    },
    {
      "cell_type": "code",
      "source": [
        "epo_inventors_filt = pd.read_csv('/content/drive/MyDrive/epo_inventors_filt.csv', encoding = 'utf-8', sep = ',') # List of EPO inventors: contains appl_id"
      ],
      "metadata": {
        "id": "vKaYk1letYCJ"
      },
      "execution_count": null,
      "outputs": []
    },
    {
      "cell_type": "code",
      "execution_count": null,
      "metadata": {
        "id": "r9_U-c-IVZoW"
      },
      "outputs": [],
      "source": [
        "cpc_class = pd.read_csv(\"/content/drive/MyDrive/202208_CPC_Classes.txt\",  encoding = \"utf-8\", sep = \"|\") # list of CPC classes related to the invention"
      ]
    },
    {
      "cell_type": "code",
      "source": [
        "cpc_y02e = pd.read_csv('/content/cpc_y02e.csv') # cpc technology classification"
      ],
      "metadata": {
        "id": "mmFZwjmcDyMk"
      },
      "execution_count": null,
      "outputs": []
    },
    {
      "cell_type": "code",
      "source": [
        "epo_ipc = pd.read_csv(\"/content/drive/MyDrive/202208_EPO_IPC.txt\", encoding = \"utf-8\", sep = \"|\") "
      ],
      "metadata": {
        "id": "qho_r42VjmSp"
      },
      "execution_count": null,
      "outputs": []
    },
    {
      "cell_type": "markdown",
      "source": [
        "### Filter by Y02E class"
      ],
      "metadata": {
        "id": "n3LzuhcJt7pS"
      }
    },
    {
      "cell_type": "code",
      "source": [
        "cpc_y02e = cpc_class[cpc_class['CPC_Class'].str.startswith('Y02E')] # select class that starts with Y02E"
      ],
      "metadata": {
        "id": "R6Kcis8-V5Bn"
      },
      "execution_count": null,
      "outputs": []
    },
    {
      "cell_type": "code",
      "source": [
        "len(cpc_y02e)"
      ],
      "metadata": {
        "colab": {
          "base_uri": "https://localhost:8080/"
        },
        "id": "SiSRUwsvau30",
        "outputId": "aae7006a-4f47-4e22-e549-92b9b94f91fe"
      },
      "execution_count": null,
      "outputs": [
        {
          "output_type": "execute_result",
          "data": {
            "text/plain": [
              "352222"
            ]
          },
          "metadata": {},
          "execution_count": 8
        }
      ]
    },
    {
      "cell_type": "code",
      "source": [
        "cpc_y02e.to_csv('cpc_y02e.csv', index = False)"
      ],
      "metadata": {
        "id": "Ch_qKkdQaWj4"
      },
      "execution_count": null,
      "outputs": []
    },
    {
      "cell_type": "markdown",
      "source": [
        "### Join with list of IPC classes and CPC classes"
      ],
      "metadata": {
        "id": "LJ79sdmeuyVU"
      }
    },
    {
      "cell_type": "code",
      "source": [
        "merged_ipc_cpc = pd.merge(epo_ipc, cpc_y02e, how='left', on= 'appln_id') # merge epo patents with patent class dataset\n",
        "\n",
        "merged_ipc_cpc = merged_ipc_cpc.dropna()\n",
        "\n",
        "len(merged_ipc_cpc)"
      ],
      "metadata": {
        "id": "vmfHDYK6jZg8"
      },
      "execution_count": null,
      "outputs": []
    },
    {
      "cell_type": "markdown",
      "source": [
        "### Merge regional US data with years and cpc class "
      ],
      "metadata": {
        "id": "XfOkplJcuSUd"
      }
    },
    {
      "cell_type": "code",
      "source": [
        "# merge regpat regions and epo inventors data using ctry_code & reg_code\n",
        "\n",
        "regpat_regions.rename(columns = {'Ctry_code':'ctry_code'}, inplace = True) # rename col\n",
        "\n",
        "merged1 = pd.merge(epo_inventors_filt, regpat_regions, how='left', on=['ctry_code', 'reg_code'])\n",
        "\n",
        "merged1 = merged1.drop_duplicates()\n",
        "\n",
        "merged1.head() # we have now application id and TL2 regions in the same df"
      ],
      "metadata": {
        "id": "y-KBcZ7zubqZ",
        "colab": {
          "base_uri": "https://localhost:8080/",
          "height": 206
        },
        "outputId": "5eb397de-dd69-47c1-9d03-b8ffb84dfe8d"
      },
      "execution_count": null,
      "outputs": [
        {
          "output_type": "execute_result",
          "data": {
            "text/plain": [
              "          app_nbr  appln_id reg_code ctry_code  reg_share  inv_share  \\\n",
              "0   EP20000103094         1    FI197        FI        1.0   0.250000   \n",
              "4   EP20000107845         2    UKH12        GB        1.0   0.166667   \n",
              "6   EP20000107845         2  US06001        US        1.0   0.166667   \n",
              "9   EP20000107845         2    AU1GS        AU        1.0   0.166667   \n",
              "10  EP20000202556         3    DEA2D        DE        1.0   0.333333   \n",
              "\n",
              "             reg_label Up_reg_code     Up_reg_label  \n",
              "0            Pirkanmaa        FI19  Western Finland  \n",
              "4    Cambridgeshire CC         UKH  East of England  \n",
              "6   Alameda County, CA        US06       California  \n",
              "9               Sydney         AU1  New South Wales  \n",
              "10       Aachen region        DEA2             Köln  "
            ],
            "text/html": [
              "\n",
              "  <div id=\"df-817bfe50-2343-4bc4-9e3c-b876a06dd92b\">\n",
              "    <div class=\"colab-df-container\">\n",
              "      <div>\n",
              "<style scoped>\n",
              "    .dataframe tbody tr th:only-of-type {\n",
              "        vertical-align: middle;\n",
              "    }\n",
              "\n",
              "    .dataframe tbody tr th {\n",
              "        vertical-align: top;\n",
              "    }\n",
              "\n",
              "    .dataframe thead th {\n",
              "        text-align: right;\n",
              "    }\n",
              "</style>\n",
              "<table border=\"1\" class=\"dataframe\">\n",
              "  <thead>\n",
              "    <tr style=\"text-align: right;\">\n",
              "      <th></th>\n",
              "      <th>app_nbr</th>\n",
              "      <th>appln_id</th>\n",
              "      <th>reg_code</th>\n",
              "      <th>ctry_code</th>\n",
              "      <th>reg_share</th>\n",
              "      <th>inv_share</th>\n",
              "      <th>reg_label</th>\n",
              "      <th>Up_reg_code</th>\n",
              "      <th>Up_reg_label</th>\n",
              "    </tr>\n",
              "  </thead>\n",
              "  <tbody>\n",
              "    <tr>\n",
              "      <th>0</th>\n",
              "      <td>EP20000103094</td>\n",
              "      <td>1</td>\n",
              "      <td>FI197</td>\n",
              "      <td>FI</td>\n",
              "      <td>1.0</td>\n",
              "      <td>0.250000</td>\n",
              "      <td>Pirkanmaa</td>\n",
              "      <td>FI19</td>\n",
              "      <td>Western Finland</td>\n",
              "    </tr>\n",
              "    <tr>\n",
              "      <th>4</th>\n",
              "      <td>EP20000107845</td>\n",
              "      <td>2</td>\n",
              "      <td>UKH12</td>\n",
              "      <td>GB</td>\n",
              "      <td>1.0</td>\n",
              "      <td>0.166667</td>\n",
              "      <td>Cambridgeshire CC</td>\n",
              "      <td>UKH</td>\n",
              "      <td>East of England</td>\n",
              "    </tr>\n",
              "    <tr>\n",
              "      <th>6</th>\n",
              "      <td>EP20000107845</td>\n",
              "      <td>2</td>\n",
              "      <td>US06001</td>\n",
              "      <td>US</td>\n",
              "      <td>1.0</td>\n",
              "      <td>0.166667</td>\n",
              "      <td>Alameda County, CA</td>\n",
              "      <td>US06</td>\n",
              "      <td>California</td>\n",
              "    </tr>\n",
              "    <tr>\n",
              "      <th>9</th>\n",
              "      <td>EP20000107845</td>\n",
              "      <td>2</td>\n",
              "      <td>AU1GS</td>\n",
              "      <td>AU</td>\n",
              "      <td>1.0</td>\n",
              "      <td>0.166667</td>\n",
              "      <td>Sydney</td>\n",
              "      <td>AU1</td>\n",
              "      <td>New South Wales</td>\n",
              "    </tr>\n",
              "    <tr>\n",
              "      <th>10</th>\n",
              "      <td>EP20000202556</td>\n",
              "      <td>3</td>\n",
              "      <td>DEA2D</td>\n",
              "      <td>DE</td>\n",
              "      <td>1.0</td>\n",
              "      <td>0.333333</td>\n",
              "      <td>Aachen region</td>\n",
              "      <td>DEA2</td>\n",
              "      <td>Köln</td>\n",
              "    </tr>\n",
              "  </tbody>\n",
              "</table>\n",
              "</div>\n",
              "      <button class=\"colab-df-convert\" onclick=\"convertToInteractive('df-817bfe50-2343-4bc4-9e3c-b876a06dd92b')\"\n",
              "              title=\"Convert this dataframe to an interactive table.\"\n",
              "              style=\"display:none;\">\n",
              "        \n",
              "  <svg xmlns=\"http://www.w3.org/2000/svg\" height=\"24px\"viewBox=\"0 0 24 24\"\n",
              "       width=\"24px\">\n",
              "    <path d=\"M0 0h24v24H0V0z\" fill=\"none\"/>\n",
              "    <path d=\"M18.56 5.44l.94 2.06.94-2.06 2.06-.94-2.06-.94-.94-2.06-.94 2.06-2.06.94zm-11 1L8.5 8.5l.94-2.06 2.06-.94-2.06-.94L8.5 2.5l-.94 2.06-2.06.94zm10 10l.94 2.06.94-2.06 2.06-.94-2.06-.94-.94-2.06-.94 2.06-2.06.94z\"/><path d=\"M17.41 7.96l-1.37-1.37c-.4-.4-.92-.59-1.43-.59-.52 0-1.04.2-1.43.59L10.3 9.45l-7.72 7.72c-.78.78-.78 2.05 0 2.83L4 21.41c.39.39.9.59 1.41.59.51 0 1.02-.2 1.41-.59l7.78-7.78 2.81-2.81c.8-.78.8-2.07 0-2.86zM5.41 20L4 18.59l7.72-7.72 1.47 1.35L5.41 20z\"/>\n",
              "  </svg>\n",
              "      </button>\n",
              "      \n",
              "  <style>\n",
              "    .colab-df-container {\n",
              "      display:flex;\n",
              "      flex-wrap:wrap;\n",
              "      gap: 12px;\n",
              "    }\n",
              "\n",
              "    .colab-df-convert {\n",
              "      background-color: #E8F0FE;\n",
              "      border: none;\n",
              "      border-radius: 50%;\n",
              "      cursor: pointer;\n",
              "      display: none;\n",
              "      fill: #1967D2;\n",
              "      height: 32px;\n",
              "      padding: 0 0 0 0;\n",
              "      width: 32px;\n",
              "    }\n",
              "\n",
              "    .colab-df-convert:hover {\n",
              "      background-color: #E2EBFA;\n",
              "      box-shadow: 0px 1px 2px rgba(60, 64, 67, 0.3), 0px 1px 3px 1px rgba(60, 64, 67, 0.15);\n",
              "      fill: #174EA6;\n",
              "    }\n",
              "\n",
              "    [theme=dark] .colab-df-convert {\n",
              "      background-color: #3B4455;\n",
              "      fill: #D2E3FC;\n",
              "    }\n",
              "\n",
              "    [theme=dark] .colab-df-convert:hover {\n",
              "      background-color: #434B5C;\n",
              "      box-shadow: 0px 1px 3px 1px rgba(0, 0, 0, 0.15);\n",
              "      filter: drop-shadow(0px 1px 2px rgba(0, 0, 0, 0.3));\n",
              "      fill: #FFFFFF;\n",
              "    }\n",
              "  </style>\n",
              "\n",
              "      <script>\n",
              "        const buttonEl =\n",
              "          document.querySelector('#df-817bfe50-2343-4bc4-9e3c-b876a06dd92b button.colab-df-convert');\n",
              "        buttonEl.style.display =\n",
              "          google.colab.kernel.accessAllowed ? 'block' : 'none';\n",
              "\n",
              "        async function convertToInteractive(key) {\n",
              "          const element = document.querySelector('#df-817bfe50-2343-4bc4-9e3c-b876a06dd92b');\n",
              "          const dataTable =\n",
              "            await google.colab.kernel.invokeFunction('convertToInteractive',\n",
              "                                                     [key], {});\n",
              "          if (!dataTable) return;\n",
              "\n",
              "          const docLinkHtml = 'Like what you see? Visit the ' +\n",
              "            '<a target=\"_blank\" href=https://colab.research.google.com/notebooks/data_table.ipynb>data table notebook</a>'\n",
              "            + ' to learn more about interactive tables.';\n",
              "          element.innerHTML = '';\n",
              "          dataTable['output_type'] = 'display_data';\n",
              "          await google.colab.output.renderOutput(dataTable, element);\n",
              "          const docLink = document.createElement('div');\n",
              "          docLink.innerHTML = docLinkHtml;\n",
              "          element.appendChild(docLink);\n",
              "        }\n",
              "      </script>\n",
              "    </div>\n",
              "  </div>\n",
              "  "
            ]
          },
          "metadata": {},
          "execution_count": 12
        }
      ]
    },
    {
      "cell_type": "code",
      "source": [
        "merged1_us = merged1.loc[merged1['ctry_code'] == 'US', ] # filter for US only\n",
        "\n",
        "merged2 = pd.merge(merged1_us, merged_ipc_cpc, how='left', on= 'appln_id') # merge Y02E class & year data with US regional data \n",
        "\n",
        "regpat_epo = merged2.dropna() # we drop NAs because they are only present in time and CPC class = means that those invetions were not Y02E\n",
        "\n",
        "regpat_epo = regpat_epo.astype({'prio_year':'int', 'app_year':'int'})\n",
        "\n",
        "regpat_epo.head()"
      ],
      "metadata": {
        "id": "aYej1K4YufEt",
        "colab": {
          "base_uri": "https://localhost:8080/",
          "height": 206
        },
        "outputId": "8c006eda-306a-44b9-f3f1-3435be3bc56a"
      },
      "execution_count": null,
      "outputs": [
        {
          "output_type": "execute_result",
          "data": {
            "text/plain": [
              "          app_nbr  appln_id reg_code ctry_code  reg_share  inv_share  \\\n",
              "95  EP20020022517      1297  US48339        US        1.0        0.5   \n",
              "96  EP20020022517      1297  US48339        US        1.0        0.5   \n",
              "97  EP20020022517      1297  US48339        US        1.0        0.5   \n",
              "98  EP20020022517      1297  US48339        US        1.0        0.5   \n",
              "99  EP20020022517      1297  US48339        US        1.0        0.5   \n",
              "\n",
              "                reg_label Up_reg_code Up_reg_label  prio_year  app_year  \\\n",
              "95  Montgomery County, TX        US48        Texas       1996      1997   \n",
              "96  Montgomery County, TX        US48        Texas       1996      1997   \n",
              "97  Montgomery County, TX        US48        Texas       1996      1997   \n",
              "98  Montgomery County, TX        US48        Texas       1996      1997   \n",
              "99  Montgomery County, TX        US48        Texas       1996      1997   \n",
              "\n",
              "           IPC    CPC_Class  \n",
              "95  B62B003/14  Y02E  60/10  \n",
              "96  G06K007/00  Y02E  60/10  \n",
              "97  G06K007/08  Y02E  60/10  \n",
              "98  G06K007/10  Y02E  60/10  \n",
              "99  G06K017/00  Y02E  60/10  "
            ],
            "text/html": [
              "\n",
              "  <div id=\"df-02246029-7915-42a8-9fa4-b239f29479e5\">\n",
              "    <div class=\"colab-df-container\">\n",
              "      <div>\n",
              "<style scoped>\n",
              "    .dataframe tbody tr th:only-of-type {\n",
              "        vertical-align: middle;\n",
              "    }\n",
              "\n",
              "    .dataframe tbody tr th {\n",
              "        vertical-align: top;\n",
              "    }\n",
              "\n",
              "    .dataframe thead th {\n",
              "        text-align: right;\n",
              "    }\n",
              "</style>\n",
              "<table border=\"1\" class=\"dataframe\">\n",
              "  <thead>\n",
              "    <tr style=\"text-align: right;\">\n",
              "      <th></th>\n",
              "      <th>app_nbr</th>\n",
              "      <th>appln_id</th>\n",
              "      <th>reg_code</th>\n",
              "      <th>ctry_code</th>\n",
              "      <th>reg_share</th>\n",
              "      <th>inv_share</th>\n",
              "      <th>reg_label</th>\n",
              "      <th>Up_reg_code</th>\n",
              "      <th>Up_reg_label</th>\n",
              "      <th>prio_year</th>\n",
              "      <th>app_year</th>\n",
              "      <th>IPC</th>\n",
              "      <th>CPC_Class</th>\n",
              "    </tr>\n",
              "  </thead>\n",
              "  <tbody>\n",
              "    <tr>\n",
              "      <th>95</th>\n",
              "      <td>EP20020022517</td>\n",
              "      <td>1297</td>\n",
              "      <td>US48339</td>\n",
              "      <td>US</td>\n",
              "      <td>1.0</td>\n",
              "      <td>0.5</td>\n",
              "      <td>Montgomery County, TX</td>\n",
              "      <td>US48</td>\n",
              "      <td>Texas</td>\n",
              "      <td>1996</td>\n",
              "      <td>1997</td>\n",
              "      <td>B62B003/14</td>\n",
              "      <td>Y02E  60/10</td>\n",
              "    </tr>\n",
              "    <tr>\n",
              "      <th>96</th>\n",
              "      <td>EP20020022517</td>\n",
              "      <td>1297</td>\n",
              "      <td>US48339</td>\n",
              "      <td>US</td>\n",
              "      <td>1.0</td>\n",
              "      <td>0.5</td>\n",
              "      <td>Montgomery County, TX</td>\n",
              "      <td>US48</td>\n",
              "      <td>Texas</td>\n",
              "      <td>1996</td>\n",
              "      <td>1997</td>\n",
              "      <td>G06K007/00</td>\n",
              "      <td>Y02E  60/10</td>\n",
              "    </tr>\n",
              "    <tr>\n",
              "      <th>97</th>\n",
              "      <td>EP20020022517</td>\n",
              "      <td>1297</td>\n",
              "      <td>US48339</td>\n",
              "      <td>US</td>\n",
              "      <td>1.0</td>\n",
              "      <td>0.5</td>\n",
              "      <td>Montgomery County, TX</td>\n",
              "      <td>US48</td>\n",
              "      <td>Texas</td>\n",
              "      <td>1996</td>\n",
              "      <td>1997</td>\n",
              "      <td>G06K007/08</td>\n",
              "      <td>Y02E  60/10</td>\n",
              "    </tr>\n",
              "    <tr>\n",
              "      <th>98</th>\n",
              "      <td>EP20020022517</td>\n",
              "      <td>1297</td>\n",
              "      <td>US48339</td>\n",
              "      <td>US</td>\n",
              "      <td>1.0</td>\n",
              "      <td>0.5</td>\n",
              "      <td>Montgomery County, TX</td>\n",
              "      <td>US48</td>\n",
              "      <td>Texas</td>\n",
              "      <td>1996</td>\n",
              "      <td>1997</td>\n",
              "      <td>G06K007/10</td>\n",
              "      <td>Y02E  60/10</td>\n",
              "    </tr>\n",
              "    <tr>\n",
              "      <th>99</th>\n",
              "      <td>EP20020022517</td>\n",
              "      <td>1297</td>\n",
              "      <td>US48339</td>\n",
              "      <td>US</td>\n",
              "      <td>1.0</td>\n",
              "      <td>0.5</td>\n",
              "      <td>Montgomery County, TX</td>\n",
              "      <td>US48</td>\n",
              "      <td>Texas</td>\n",
              "      <td>1996</td>\n",
              "      <td>1997</td>\n",
              "      <td>G06K017/00</td>\n",
              "      <td>Y02E  60/10</td>\n",
              "    </tr>\n",
              "  </tbody>\n",
              "</table>\n",
              "</div>\n",
              "      <button class=\"colab-df-convert\" onclick=\"convertToInteractive('df-02246029-7915-42a8-9fa4-b239f29479e5')\"\n",
              "              title=\"Convert this dataframe to an interactive table.\"\n",
              "              style=\"display:none;\">\n",
              "        \n",
              "  <svg xmlns=\"http://www.w3.org/2000/svg\" height=\"24px\"viewBox=\"0 0 24 24\"\n",
              "       width=\"24px\">\n",
              "    <path d=\"M0 0h24v24H0V0z\" fill=\"none\"/>\n",
              "    <path d=\"M18.56 5.44l.94 2.06.94-2.06 2.06-.94-2.06-.94-.94-2.06-.94 2.06-2.06.94zm-11 1L8.5 8.5l.94-2.06 2.06-.94-2.06-.94L8.5 2.5l-.94 2.06-2.06.94zm10 10l.94 2.06.94-2.06 2.06-.94-2.06-.94-.94-2.06-.94 2.06-2.06.94z\"/><path d=\"M17.41 7.96l-1.37-1.37c-.4-.4-.92-.59-1.43-.59-.52 0-1.04.2-1.43.59L10.3 9.45l-7.72 7.72c-.78.78-.78 2.05 0 2.83L4 21.41c.39.39.9.59 1.41.59.51 0 1.02-.2 1.41-.59l7.78-7.78 2.81-2.81c.8-.78.8-2.07 0-2.86zM5.41 20L4 18.59l7.72-7.72 1.47 1.35L5.41 20z\"/>\n",
              "  </svg>\n",
              "      </button>\n",
              "      \n",
              "  <style>\n",
              "    .colab-df-container {\n",
              "      display:flex;\n",
              "      flex-wrap:wrap;\n",
              "      gap: 12px;\n",
              "    }\n",
              "\n",
              "    .colab-df-convert {\n",
              "      background-color: #E8F0FE;\n",
              "      border: none;\n",
              "      border-radius: 50%;\n",
              "      cursor: pointer;\n",
              "      display: none;\n",
              "      fill: #1967D2;\n",
              "      height: 32px;\n",
              "      padding: 0 0 0 0;\n",
              "      width: 32px;\n",
              "    }\n",
              "\n",
              "    .colab-df-convert:hover {\n",
              "      background-color: #E2EBFA;\n",
              "      box-shadow: 0px 1px 2px rgba(60, 64, 67, 0.3), 0px 1px 3px 1px rgba(60, 64, 67, 0.15);\n",
              "      fill: #174EA6;\n",
              "    }\n",
              "\n",
              "    [theme=dark] .colab-df-convert {\n",
              "      background-color: #3B4455;\n",
              "      fill: #D2E3FC;\n",
              "    }\n",
              "\n",
              "    [theme=dark] .colab-df-convert:hover {\n",
              "      background-color: #434B5C;\n",
              "      box-shadow: 0px 1px 3px 1px rgba(0, 0, 0, 0.15);\n",
              "      filter: drop-shadow(0px 1px 2px rgba(0, 0, 0, 0.3));\n",
              "      fill: #FFFFFF;\n",
              "    }\n",
              "  </style>\n",
              "\n",
              "      <script>\n",
              "        const buttonEl =\n",
              "          document.querySelector('#df-02246029-7915-42a8-9fa4-b239f29479e5 button.colab-df-convert');\n",
              "        buttonEl.style.display =\n",
              "          google.colab.kernel.accessAllowed ? 'block' : 'none';\n",
              "\n",
              "        async function convertToInteractive(key) {\n",
              "          const element = document.querySelector('#df-02246029-7915-42a8-9fa4-b239f29479e5');\n",
              "          const dataTable =\n",
              "            await google.colab.kernel.invokeFunction('convertToInteractive',\n",
              "                                                     [key], {});\n",
              "          if (!dataTable) return;\n",
              "\n",
              "          const docLinkHtml = 'Like what you see? Visit the ' +\n",
              "            '<a target=\"_blank\" href=https://colab.research.google.com/notebooks/data_table.ipynb>data table notebook</a>'\n",
              "            + ' to learn more about interactive tables.';\n",
              "          element.innerHTML = '';\n",
              "          dataTable['output_type'] = 'display_data';\n",
              "          await google.colab.output.renderOutput(dataTable, element);\n",
              "          const docLink = document.createElement('div');\n",
              "          docLink.innerHTML = docLinkHtml;\n",
              "          element.appendChild(docLink);\n",
              "        }\n",
              "      </script>\n",
              "    </div>\n",
              "  </div>\n",
              "  "
            ]
          },
          "metadata": {},
          "execution_count": 26
        }
      ]
    },
    {
      "cell_type": "code",
      "source": [
        "len(regpat_epo.loc[:,'appln_id'].unique()) # number of US inventions under Y02E class filed at EPO"
      ],
      "metadata": {
        "colab": {
          "base_uri": "https://localhost:8080/"
        },
        "id": "Ua-sKtPPQ8lr",
        "outputId": "0179e8b0-5ead-4ab6-ba9d-b4e0f2ffd309"
      },
      "execution_count": null,
      "outputs": [
        {
          "output_type": "execute_result",
          "data": {
            "text/plain": [
              "27577"
            ]
          },
          "metadata": {},
          "execution_count": 27
        }
      ]
    },
    {
      "cell_type": "code",
      "source": [
        "regpat_epo.to_csv('epo_regpat_agg.csv', sep = ',', index = False) # save"
      ],
      "metadata": {
        "id": "diHwjNCIIZwY"
      },
      "execution_count": null,
      "outputs": []
    },
    {
      "cell_type": "markdown",
      "source": [
        "### Create patent counts"
      ],
      "metadata": {
        "id": "N3EuQI-VrrwH"
      }
    },
    {
      "cell_type": "code",
      "source": [
        "epo = pd.read_csv(\"/content/epo_regpat_agg.csv\")"
      ],
      "metadata": {
        "id": "NzSRWCzkrv3O"
      },
      "execution_count": null,
      "outputs": []
    },
    {
      "cell_type": "code",
      "source": [
        "epo_filt = epo[['Up_reg_label', 'prio_year','inv_share', 'appln_id']].drop_duplicates() # filter by State, priority year, share of patent and application id"
      ],
      "metadata": {
        "id": "O6bXWSBI5JpX"
      },
      "execution_count": null,
      "outputs": []
    },
    {
      "cell_type": "code",
      "source": [
        "epo_count = epo_filt.groupby(['Up_reg_label', 'prio_year'], as_index = False).inv_share.sum() # create count by summing over inventor share\n",
        "\n",
        "epo_count.head()"
      ],
      "metadata": {
        "id": "xvoPoNQq2J_u"
      },
      "execution_count": null,
      "outputs": []
    },
    {
      "cell_type": "code",
      "source": [
        "epo_count.to_csv('epo_patent_counts.csv', sep = \",\", index = False)"
      ],
      "metadata": {
        "id": "5ufAuukYzloP"
      },
      "execution_count": null,
      "outputs": []
    },
    {
      "cell_type": "markdown",
      "source": [
        "## REGPAT - PCT\n",
        "\n",
        "Collect regional patent data filed at the EPO.\n",
        " - State level \n",
        " - TL2 regional classification (CITE OECD) \n",
        " - 51 regions "
      ],
      "metadata": {
        "id": "Zqz_HYDW5mXk"
      }
    },
    {
      "cell_type": "code",
      "source": [
        "pct_inv_filt = pd.read_csv(\"/content/drive/My Drive/pct_inv_filt.csv\", encoding = \"utf-8\", sep = \",\")\n",
        "\n",
        "pct_inv_us = pct_inv_filt.loc[pct_inv_filt['ctry_code'] == 'US', ].drop_duplicates()"
      ],
      "metadata": {
        "id": "k9nQjise5ptK"
      },
      "execution_count": null,
      "outputs": []
    },
    {
      "cell_type": "code",
      "source": [
        "pct_ipc = pd.read_csv(\"/content/drive/MyDrive/202208_PCT_IPC.txt\", encoding = \"utf-8\", sep = \"|\")"
      ],
      "metadata": {
        "id": "pGBXqbeWQOIJ"
      },
      "execution_count": null,
      "outputs": []
    },
    {
      "cell_type": "code",
      "source": [
        "merged_ipc_inv = pd.merge(pct_inv_us, pct_ipc, how='left', on= 'pct_nbr') # merge pct_ipc with pct inventors data: we have country and year information\n",
        "\n",
        "merged_ipc_inv.head()"
      ],
      "metadata": {
        "id": "ItDulFw01vH0"
      },
      "execution_count": null,
      "outputs": []
    },
    {
      "cell_type": "code",
      "source": [
        "merged_ipc_inv.isna().value_counts() # 13 nas for appln_id"
      ],
      "metadata": {
        "colab": {
          "base_uri": "https://localhost:8080/"
        },
        "id": "c8RUjfWqY6y-",
        "outputId": "0e35d216-0db9-4d0f-da66-3ec3b2afd151"
      },
      "execution_count": null,
      "outputs": [
        {
          "output_type": "execute_result",
          "data": {
            "text/plain": [
              "pct_nbr  appln_id  reg_code  ctry_code  reg_share  inv_share  prio_year  app_year  IPC  \n",
              "False    False     False     False      False      False      False      False     False    8445469\n",
              "                                                                                   True        1137\n",
              "         True      False     False      False      False      False      False     False         94\n",
              "                                                                                   True           1\n",
              "dtype: int64"
            ]
          },
          "metadata": {},
          "execution_count": 20
        }
      ]
    },
    {
      "cell_type": "code",
      "source": [
        "merged_ipc_inv = merged_ipc_inv.dropna()\n",
        "\n",
        "merged_ipc_inv = merged_ipc_inv.astype({'appln_id':'int'}) # transform appln_id from numerical to integer for merging \n",
        "\n",
        "print(merged_ipc_inv.dtypes)"
      ],
      "metadata": {
        "id": "6m9Ganr9Y0Zz"
      },
      "execution_count": null,
      "outputs": []
    },
    {
      "cell_type": "code",
      "source": [
        "merged_ipc_y02e = pd.merge(merged_ipc_inv, cpc_y02e, how='left', on= 'appln_id') # merge ipc_inv with y02e CPC class \n",
        "\n",
        "merged_ipc_y02e = merged_ipc_y02e.dropna()"
      ],
      "metadata": {
        "id": "VnRXOE_OepHf"
      },
      "execution_count": null,
      "outputs": []
    },
    {
      "cell_type": "code",
      "source": [
        "regpat_regions.rename(columns = {'Ctry_code':'ctry_code'}, inplace = True) # rename col\n",
        "\n",
        "reg_pct = pd.merge(merged_ipc_y02e, regpat_regions, how='left', on=['ctry_code', 'reg_code']).drop_duplicates() # merge geographical information with patent information"
      ],
      "metadata": {
        "id": "KHVA8-7ShNL7"
      },
      "execution_count": null,
      "outputs": []
    },
    {
      "cell_type": "code",
      "source": [
        "len(reg_pct['appln_id'].unique()) # number of patent applications at PCT  "
      ],
      "metadata": {
        "colab": {
          "base_uri": "https://localhost:8080/"
        },
        "id": "pkMG911liSCW",
        "outputId": "09a1848f-3fe8-4b88-e0da-6b33c64e0488"
      },
      "execution_count": null,
      "outputs": [
        {
          "output_type": "execute_result",
          "data": {
            "text/plain": [
              "36313"
            ]
          },
          "metadata": {},
          "execution_count": 39
        }
      ]
    },
    {
      "cell_type": "code",
      "source": [
        "reg_pct.isna().value_counts() # sanity check"
      ],
      "metadata": {
        "id": "vxyrooWNHBCh"
      },
      "execution_count": null,
      "outputs": []
    },
    {
      "cell_type": "code",
      "source": [
        "reg_pct.to_csv('pct_aggregated.csv', sep = \",\", index = False) # csv with all aggregated pct data"
      ],
      "metadata": {
        "id": "mrZM2-YykLNu"
      },
      "execution_count": null,
      "outputs": []
    },
    {
      "cell_type": "markdown",
      "source": [
        "### Create patent counts"
      ],
      "metadata": {
        "id": "qGCDw8HuHnub"
      }
    },
    {
      "cell_type": "code",
      "source": [
        "reg_pct_filt = reg_pct[['Up_reg_label', 'prio_year','inv_share', 'appln_id']].drop_duplicates() # select columns of interest"
      ],
      "metadata": {
        "id": "9x0EJcqwi9WT"
      },
      "execution_count": null,
      "outputs": []
    },
    {
      "cell_type": "code",
      "source": [
        "pct_counts = reg_pct_filt.groupby(['Up_reg_label', 'prio_year', 'appln_id'], as_index = False).inv_share.sum() # create patent counts: sum over inventor share - keeping application id"
      ],
      "metadata": {
        "id": "Fm5CGjfri9WT"
      },
      "execution_count": null,
      "outputs": []
    },
    {
      "cell_type": "code",
      "source": [
        "pct_counts_2 = pct_counts.groupby(['Up_reg_label','prio_year'], as_index = False).inv_share.sum() # create patent counts: sum over inventor share"
      ],
      "metadata": {
        "id": "dsa1RL5aKPVz"
      },
      "execution_count": null,
      "outputs": []
    },
    {
      "cell_type": "code",
      "source": [
        "pct_counts_2.to_csv('pct_patent_counts.csv', index = False, sep = \",\") # save"
      ],
      "metadata": {
        "id": "FgE_V3VNNNZ7"
      },
      "execution_count": null,
      "outputs": []
    },
    {
      "cell_type": "markdown",
      "source": [
        "## EPO-PCT overlap \n",
        "\n",
        "Check whether there are overlapping patents: in case yes, we have to remove them to avoid double counting!"
      ],
      "metadata": {
        "id": "9lKyd-s9oZwt"
      }
    },
    {
      "cell_type": "code",
      "source": [
        "epo_pct = pd.read_csv(\"/content/202208_EPO_PCT.txt\", encoding = \"utf-8\", sep = \"|\")"
      ],
      "metadata": {
        "id": "D_7dUK6SocLn"
      },
      "execution_count": null,
      "outputs": []
    },
    {
      "cell_type": "code",
      "source": [
        "epo = pd.read_csv(\"/content/epo_regpat_agg.csv\")\n",
        "epo.head()"
      ],
      "metadata": {
        "colab": {
          "base_uri": "https://localhost:8080/",
          "height": 206
        },
        "id": "8_YUMOHMFgQU",
        "outputId": "e4ec0665-8e48-497b-bba5-5a3c0467be8d"
      },
      "execution_count": null,
      "outputs": [
        {
          "output_type": "execute_result",
          "data": {
            "text/plain": [
              "   Unnamed: 0        app_nbr  appln_id reg_code ctry_code  reg_share  \\\n",
              "0          95  EP20020022517      1297  US48339        US        1.0   \n",
              "1          96  EP20020022517      1297  US48339        US        1.0   \n",
              "2          97  EP20020022517      1297  US48339        US        1.0   \n",
              "3          98  EP20020022517      1297  US48339        US        1.0   \n",
              "4          99  EP20020022517      1297  US48339        US        1.0   \n",
              "\n",
              "   inv_share              reg_label Up_reg_code Up_reg_label  prio_year  \\\n",
              "0        0.5  Montgomery County, TX        US48        Texas       1996   \n",
              "1        0.5  Montgomery County, TX        US48        Texas       1996   \n",
              "2        0.5  Montgomery County, TX        US48        Texas       1996   \n",
              "3        0.5  Montgomery County, TX        US48        Texas       1996   \n",
              "4        0.5  Montgomery County, TX        US48        Texas       1996   \n",
              "\n",
              "   app_year         IPC    CPC_Class  \n",
              "0      1997  B62B003/14  Y02E  60/10  \n",
              "1      1997  G06K007/00  Y02E  60/10  \n",
              "2      1997  G06K007/08  Y02E  60/10  \n",
              "3      1997  G06K007/10  Y02E  60/10  \n",
              "4      1997  G06K017/00  Y02E  60/10  "
            ],
            "text/html": [
              "\n",
              "  <div id=\"df-dbae36e6-3d28-460a-83e5-cf10d46cba98\">\n",
              "    <div class=\"colab-df-container\">\n",
              "      <div>\n",
              "<style scoped>\n",
              "    .dataframe tbody tr th:only-of-type {\n",
              "        vertical-align: middle;\n",
              "    }\n",
              "\n",
              "    .dataframe tbody tr th {\n",
              "        vertical-align: top;\n",
              "    }\n",
              "\n",
              "    .dataframe thead th {\n",
              "        text-align: right;\n",
              "    }\n",
              "</style>\n",
              "<table border=\"1\" class=\"dataframe\">\n",
              "  <thead>\n",
              "    <tr style=\"text-align: right;\">\n",
              "      <th></th>\n",
              "      <th>Unnamed: 0</th>\n",
              "      <th>app_nbr</th>\n",
              "      <th>appln_id</th>\n",
              "      <th>reg_code</th>\n",
              "      <th>ctry_code</th>\n",
              "      <th>reg_share</th>\n",
              "      <th>inv_share</th>\n",
              "      <th>reg_label</th>\n",
              "      <th>Up_reg_code</th>\n",
              "      <th>Up_reg_label</th>\n",
              "      <th>prio_year</th>\n",
              "      <th>app_year</th>\n",
              "      <th>IPC</th>\n",
              "      <th>CPC_Class</th>\n",
              "    </tr>\n",
              "  </thead>\n",
              "  <tbody>\n",
              "    <tr>\n",
              "      <th>0</th>\n",
              "      <td>95</td>\n",
              "      <td>EP20020022517</td>\n",
              "      <td>1297</td>\n",
              "      <td>US48339</td>\n",
              "      <td>US</td>\n",
              "      <td>1.0</td>\n",
              "      <td>0.5</td>\n",
              "      <td>Montgomery County, TX</td>\n",
              "      <td>US48</td>\n",
              "      <td>Texas</td>\n",
              "      <td>1996</td>\n",
              "      <td>1997</td>\n",
              "      <td>B62B003/14</td>\n",
              "      <td>Y02E  60/10</td>\n",
              "    </tr>\n",
              "    <tr>\n",
              "      <th>1</th>\n",
              "      <td>96</td>\n",
              "      <td>EP20020022517</td>\n",
              "      <td>1297</td>\n",
              "      <td>US48339</td>\n",
              "      <td>US</td>\n",
              "      <td>1.0</td>\n",
              "      <td>0.5</td>\n",
              "      <td>Montgomery County, TX</td>\n",
              "      <td>US48</td>\n",
              "      <td>Texas</td>\n",
              "      <td>1996</td>\n",
              "      <td>1997</td>\n",
              "      <td>G06K007/00</td>\n",
              "      <td>Y02E  60/10</td>\n",
              "    </tr>\n",
              "    <tr>\n",
              "      <th>2</th>\n",
              "      <td>97</td>\n",
              "      <td>EP20020022517</td>\n",
              "      <td>1297</td>\n",
              "      <td>US48339</td>\n",
              "      <td>US</td>\n",
              "      <td>1.0</td>\n",
              "      <td>0.5</td>\n",
              "      <td>Montgomery County, TX</td>\n",
              "      <td>US48</td>\n",
              "      <td>Texas</td>\n",
              "      <td>1996</td>\n",
              "      <td>1997</td>\n",
              "      <td>G06K007/08</td>\n",
              "      <td>Y02E  60/10</td>\n",
              "    </tr>\n",
              "    <tr>\n",
              "      <th>3</th>\n",
              "      <td>98</td>\n",
              "      <td>EP20020022517</td>\n",
              "      <td>1297</td>\n",
              "      <td>US48339</td>\n",
              "      <td>US</td>\n",
              "      <td>1.0</td>\n",
              "      <td>0.5</td>\n",
              "      <td>Montgomery County, TX</td>\n",
              "      <td>US48</td>\n",
              "      <td>Texas</td>\n",
              "      <td>1996</td>\n",
              "      <td>1997</td>\n",
              "      <td>G06K007/10</td>\n",
              "      <td>Y02E  60/10</td>\n",
              "    </tr>\n",
              "    <tr>\n",
              "      <th>4</th>\n",
              "      <td>99</td>\n",
              "      <td>EP20020022517</td>\n",
              "      <td>1297</td>\n",
              "      <td>US48339</td>\n",
              "      <td>US</td>\n",
              "      <td>1.0</td>\n",
              "      <td>0.5</td>\n",
              "      <td>Montgomery County, TX</td>\n",
              "      <td>US48</td>\n",
              "      <td>Texas</td>\n",
              "      <td>1996</td>\n",
              "      <td>1997</td>\n",
              "      <td>G06K017/00</td>\n",
              "      <td>Y02E  60/10</td>\n",
              "    </tr>\n",
              "  </tbody>\n",
              "</table>\n",
              "</div>\n",
              "      <button class=\"colab-df-convert\" onclick=\"convertToInteractive('df-dbae36e6-3d28-460a-83e5-cf10d46cba98')\"\n",
              "              title=\"Convert this dataframe to an interactive table.\"\n",
              "              style=\"display:none;\">\n",
              "        \n",
              "  <svg xmlns=\"http://www.w3.org/2000/svg\" height=\"24px\"viewBox=\"0 0 24 24\"\n",
              "       width=\"24px\">\n",
              "    <path d=\"M0 0h24v24H0V0z\" fill=\"none\"/>\n",
              "    <path d=\"M18.56 5.44l.94 2.06.94-2.06 2.06-.94-2.06-.94-.94-2.06-.94 2.06-2.06.94zm-11 1L8.5 8.5l.94-2.06 2.06-.94-2.06-.94L8.5 2.5l-.94 2.06-2.06.94zm10 10l.94 2.06.94-2.06 2.06-.94-2.06-.94-.94-2.06-.94 2.06-2.06.94z\"/><path d=\"M17.41 7.96l-1.37-1.37c-.4-.4-.92-.59-1.43-.59-.52 0-1.04.2-1.43.59L10.3 9.45l-7.72 7.72c-.78.78-.78 2.05 0 2.83L4 21.41c.39.39.9.59 1.41.59.51 0 1.02-.2 1.41-.59l7.78-7.78 2.81-2.81c.8-.78.8-2.07 0-2.86zM5.41 20L4 18.59l7.72-7.72 1.47 1.35L5.41 20z\"/>\n",
              "  </svg>\n",
              "      </button>\n",
              "      \n",
              "  <style>\n",
              "    .colab-df-container {\n",
              "      display:flex;\n",
              "      flex-wrap:wrap;\n",
              "      gap: 12px;\n",
              "    }\n",
              "\n",
              "    .colab-df-convert {\n",
              "      background-color: #E8F0FE;\n",
              "      border: none;\n",
              "      border-radius: 50%;\n",
              "      cursor: pointer;\n",
              "      display: none;\n",
              "      fill: #1967D2;\n",
              "      height: 32px;\n",
              "      padding: 0 0 0 0;\n",
              "      width: 32px;\n",
              "    }\n",
              "\n",
              "    .colab-df-convert:hover {\n",
              "      background-color: #E2EBFA;\n",
              "      box-shadow: 0px 1px 2px rgba(60, 64, 67, 0.3), 0px 1px 3px 1px rgba(60, 64, 67, 0.15);\n",
              "      fill: #174EA6;\n",
              "    }\n",
              "\n",
              "    [theme=dark] .colab-df-convert {\n",
              "      background-color: #3B4455;\n",
              "      fill: #D2E3FC;\n",
              "    }\n",
              "\n",
              "    [theme=dark] .colab-df-convert:hover {\n",
              "      background-color: #434B5C;\n",
              "      box-shadow: 0px 1px 3px 1px rgba(0, 0, 0, 0.15);\n",
              "      filter: drop-shadow(0px 1px 2px rgba(0, 0, 0, 0.3));\n",
              "      fill: #FFFFFF;\n",
              "    }\n",
              "  </style>\n",
              "\n",
              "      <script>\n",
              "        const buttonEl =\n",
              "          document.querySelector('#df-dbae36e6-3d28-460a-83e5-cf10d46cba98 button.colab-df-convert');\n",
              "        buttonEl.style.display =\n",
              "          google.colab.kernel.accessAllowed ? 'block' : 'none';\n",
              "\n",
              "        async function convertToInteractive(key) {\n",
              "          const element = document.querySelector('#df-dbae36e6-3d28-460a-83e5-cf10d46cba98');\n",
              "          const dataTable =\n",
              "            await google.colab.kernel.invokeFunction('convertToInteractive',\n",
              "                                                     [key], {});\n",
              "          if (!dataTable) return;\n",
              "\n",
              "          const docLinkHtml = 'Like what you see? Visit the ' +\n",
              "            '<a target=\"_blank\" href=https://colab.research.google.com/notebooks/data_table.ipynb>data table notebook</a>'\n",
              "            + ' to learn more about interactive tables.';\n",
              "          element.innerHTML = '';\n",
              "          dataTable['output_type'] = 'display_data';\n",
              "          await google.colab.output.renderOutput(dataTable, element);\n",
              "          const docLink = document.createElement('div');\n",
              "          docLink.innerHTML = docLinkHtml;\n",
              "          element.appendChild(docLink);\n",
              "        }\n",
              "      </script>\n",
              "    </div>\n",
              "  </div>\n",
              "  "
            ]
          },
          "metadata": {},
          "execution_count": 10
        }
      ]
    },
    {
      "cell_type": "code",
      "source": [
        "len(epo['app_nbr'].unique())  "
      ],
      "metadata": {
        "colab": {
          "base_uri": "https://localhost:8080/"
        },
        "id": "2_DIZymOTj3t",
        "outputId": "55314e7d-ce4e-420f-9cf6-5b7451d74894"
      },
      "execution_count": null,
      "outputs": [
        {
          "output_type": "execute_result",
          "data": {
            "text/plain": [
              "27577"
            ]
          },
          "metadata": {},
          "execution_count": 11
        }
      ]
    },
    {
      "cell_type": "code",
      "source": [
        "# check intersection between EPO patents filtered for US and PCT patents that entered EPO regional phase \n",
        "\n",
        "A = set(epo['app_nbr']) \n",
        "B = set(epo_pct['app_nbr'])\n",
        "print(len(A.intersection(B)))\n",
        "pct_epo_common = A.intersection(B) # 18313 "
      ],
      "metadata": {
        "colab": {
          "base_uri": "https://localhost:8080/"
        },
        "id": "whOAe9hTJggL",
        "outputId": "a2d15388-765f-44f0-b4e5-c19ae70b9011"
      },
      "execution_count": null,
      "outputs": [
        {
          "output_type": "stream",
          "name": "stdout",
          "text": [
            "18313\n"
          ]
        }
      ]
    },
    {
      "cell_type": "markdown",
      "source": [
        "## Check whether filing date is the same\n",
        "\n",
        "For the overlapping patents: is priority filing the same? This is a test for checking quality of the data. If it is the same, we can merge without problems. "
      ],
      "metadata": {
        "id": "Mu4bFnUTN1cw"
      }
    },
    {
      "cell_type": "code",
      "source": [
        "common_epo = epo[epo['app_nbr'].isin(pct_epo_common)]"
      ],
      "metadata": {
        "id": "4crdJQ-4N6MD"
      },
      "execution_count": null,
      "outputs": []
    },
    {
      "cell_type": "code",
      "source": [
        "print(len(common_epo['appln_id'].unique()))\n",
        "\n",
        "print(len(common_epo))"
      ],
      "metadata": {
        "colab": {
          "base_uri": "https://localhost:8080/"
        },
        "id": "7EyImyNKOcvn",
        "outputId": "8642b9d6-1261-4246-f1df-6f4d638f5cec"
      },
      "execution_count": null,
      "outputs": [
        {
          "output_type": "stream",
          "name": "stdout",
          "text": [
            "18313\n",
            "210918\n"
          ]
        }
      ]
    },
    {
      "cell_type": "code",
      "source": [
        "# For the patents which have both an EPO and a PCT application, is the filing date the same? \n",
        "\n",
        "common_con_pctnbr = pd.merge(common_epo, epo_pct, how = 'left', on = ['app_nbr'])\n",
        "\n",
        "print(len(common_con_pctnbr))\n",
        "\n",
        "common_con_pctnbr.head()"
      ],
      "metadata": {
        "colab": {
          "base_uri": "https://localhost:8080/",
          "height": 224
        },
        "id": "7YqSoSBWOuTV",
        "outputId": "7c407753-5f92-40e2-d824-4b743591f611"
      },
      "execution_count": null,
      "outputs": [
        {
          "output_type": "stream",
          "name": "stdout",
          "text": [
            "210918\n"
          ]
        },
        {
          "output_type": "execute_result",
          "data": {
            "text/plain": [
              "   Unnamed: 0        app_nbr  appln_id reg_code ctry_code  reg_share  \\\n",
              "0         147  EP20020795916      1357  US18097        US        1.0   \n",
              "1         148  EP20020795916      1357  US18097        US        1.0   \n",
              "2         149  EP20020795916      1357  US18097        US        1.0   \n",
              "3         150  EP20020795916      1357  US18097        US        1.0   \n",
              "4         151  EP20020795916      1357  US18097        US        1.0   \n",
              "\n",
              "   inv_share          reg_label Up_reg_code Up_reg_label  prio_year  app_year  \\\n",
              "0       0.25  Marion County, IN        US18      Indiana       2002      2002   \n",
              "1       0.25  Marion County, IN        US18      Indiana       2002      2002   \n",
              "2       0.25  Marion County, IN        US18      Indiana       2002      2002   \n",
              "3       0.25  Marion County, IN        US18      Indiana       2002      2002   \n",
              "4       0.25  Marion County, IN        US18      Indiana       2002      2002   \n",
              "\n",
              "           IPC    CPC_Class       pct_nbr  \n",
              "0   B01D053/94  Y02E  60/50  WO2003064833  \n",
              "1   B01J019/08  Y02E  60/50  WO2003064833  \n",
              "2   C01B003/34  Y02E  60/50  WO2003064833  \n",
              "3   F01N003/02  Y02E  60/50  WO2003064833  \n",
              "4  F01N003/025  Y02E  60/50  WO2003064833  "
            ],
            "text/html": [
              "\n",
              "  <div id=\"df-dfad45d7-192c-413a-a6e0-0f946a3c8e7c\">\n",
              "    <div class=\"colab-df-container\">\n",
              "      <div>\n",
              "<style scoped>\n",
              "    .dataframe tbody tr th:only-of-type {\n",
              "        vertical-align: middle;\n",
              "    }\n",
              "\n",
              "    .dataframe tbody tr th {\n",
              "        vertical-align: top;\n",
              "    }\n",
              "\n",
              "    .dataframe thead th {\n",
              "        text-align: right;\n",
              "    }\n",
              "</style>\n",
              "<table border=\"1\" class=\"dataframe\">\n",
              "  <thead>\n",
              "    <tr style=\"text-align: right;\">\n",
              "      <th></th>\n",
              "      <th>Unnamed: 0</th>\n",
              "      <th>app_nbr</th>\n",
              "      <th>appln_id</th>\n",
              "      <th>reg_code</th>\n",
              "      <th>ctry_code</th>\n",
              "      <th>reg_share</th>\n",
              "      <th>inv_share</th>\n",
              "      <th>reg_label</th>\n",
              "      <th>Up_reg_code</th>\n",
              "      <th>Up_reg_label</th>\n",
              "      <th>prio_year</th>\n",
              "      <th>app_year</th>\n",
              "      <th>IPC</th>\n",
              "      <th>CPC_Class</th>\n",
              "      <th>pct_nbr</th>\n",
              "    </tr>\n",
              "  </thead>\n",
              "  <tbody>\n",
              "    <tr>\n",
              "      <th>0</th>\n",
              "      <td>147</td>\n",
              "      <td>EP20020795916</td>\n",
              "      <td>1357</td>\n",
              "      <td>US18097</td>\n",
              "      <td>US</td>\n",
              "      <td>1.0</td>\n",
              "      <td>0.25</td>\n",
              "      <td>Marion County, IN</td>\n",
              "      <td>US18</td>\n",
              "      <td>Indiana</td>\n",
              "      <td>2002</td>\n",
              "      <td>2002</td>\n",
              "      <td>B01D053/94</td>\n",
              "      <td>Y02E  60/50</td>\n",
              "      <td>WO2003064833</td>\n",
              "    </tr>\n",
              "    <tr>\n",
              "      <th>1</th>\n",
              "      <td>148</td>\n",
              "      <td>EP20020795916</td>\n",
              "      <td>1357</td>\n",
              "      <td>US18097</td>\n",
              "      <td>US</td>\n",
              "      <td>1.0</td>\n",
              "      <td>0.25</td>\n",
              "      <td>Marion County, IN</td>\n",
              "      <td>US18</td>\n",
              "      <td>Indiana</td>\n",
              "      <td>2002</td>\n",
              "      <td>2002</td>\n",
              "      <td>B01J019/08</td>\n",
              "      <td>Y02E  60/50</td>\n",
              "      <td>WO2003064833</td>\n",
              "    </tr>\n",
              "    <tr>\n",
              "      <th>2</th>\n",
              "      <td>149</td>\n",
              "      <td>EP20020795916</td>\n",
              "      <td>1357</td>\n",
              "      <td>US18097</td>\n",
              "      <td>US</td>\n",
              "      <td>1.0</td>\n",
              "      <td>0.25</td>\n",
              "      <td>Marion County, IN</td>\n",
              "      <td>US18</td>\n",
              "      <td>Indiana</td>\n",
              "      <td>2002</td>\n",
              "      <td>2002</td>\n",
              "      <td>C01B003/34</td>\n",
              "      <td>Y02E  60/50</td>\n",
              "      <td>WO2003064833</td>\n",
              "    </tr>\n",
              "    <tr>\n",
              "      <th>3</th>\n",
              "      <td>150</td>\n",
              "      <td>EP20020795916</td>\n",
              "      <td>1357</td>\n",
              "      <td>US18097</td>\n",
              "      <td>US</td>\n",
              "      <td>1.0</td>\n",
              "      <td>0.25</td>\n",
              "      <td>Marion County, IN</td>\n",
              "      <td>US18</td>\n",
              "      <td>Indiana</td>\n",
              "      <td>2002</td>\n",
              "      <td>2002</td>\n",
              "      <td>F01N003/02</td>\n",
              "      <td>Y02E  60/50</td>\n",
              "      <td>WO2003064833</td>\n",
              "    </tr>\n",
              "    <tr>\n",
              "      <th>4</th>\n",
              "      <td>151</td>\n",
              "      <td>EP20020795916</td>\n",
              "      <td>1357</td>\n",
              "      <td>US18097</td>\n",
              "      <td>US</td>\n",
              "      <td>1.0</td>\n",
              "      <td>0.25</td>\n",
              "      <td>Marion County, IN</td>\n",
              "      <td>US18</td>\n",
              "      <td>Indiana</td>\n",
              "      <td>2002</td>\n",
              "      <td>2002</td>\n",
              "      <td>F01N003/025</td>\n",
              "      <td>Y02E  60/50</td>\n",
              "      <td>WO2003064833</td>\n",
              "    </tr>\n",
              "  </tbody>\n",
              "</table>\n",
              "</div>\n",
              "      <button class=\"colab-df-convert\" onclick=\"convertToInteractive('df-dfad45d7-192c-413a-a6e0-0f946a3c8e7c')\"\n",
              "              title=\"Convert this dataframe to an interactive table.\"\n",
              "              style=\"display:none;\">\n",
              "        \n",
              "  <svg xmlns=\"http://www.w3.org/2000/svg\" height=\"24px\"viewBox=\"0 0 24 24\"\n",
              "       width=\"24px\">\n",
              "    <path d=\"M0 0h24v24H0V0z\" fill=\"none\"/>\n",
              "    <path d=\"M18.56 5.44l.94 2.06.94-2.06 2.06-.94-2.06-.94-.94-2.06-.94 2.06-2.06.94zm-11 1L8.5 8.5l.94-2.06 2.06-.94-2.06-.94L8.5 2.5l-.94 2.06-2.06.94zm10 10l.94 2.06.94-2.06 2.06-.94-2.06-.94-.94-2.06-.94 2.06-2.06.94z\"/><path d=\"M17.41 7.96l-1.37-1.37c-.4-.4-.92-.59-1.43-.59-.52 0-1.04.2-1.43.59L10.3 9.45l-7.72 7.72c-.78.78-.78 2.05 0 2.83L4 21.41c.39.39.9.59 1.41.59.51 0 1.02-.2 1.41-.59l7.78-7.78 2.81-2.81c.8-.78.8-2.07 0-2.86zM5.41 20L4 18.59l7.72-7.72 1.47 1.35L5.41 20z\"/>\n",
              "  </svg>\n",
              "      </button>\n",
              "      \n",
              "  <style>\n",
              "    .colab-df-container {\n",
              "      display:flex;\n",
              "      flex-wrap:wrap;\n",
              "      gap: 12px;\n",
              "    }\n",
              "\n",
              "    .colab-df-convert {\n",
              "      background-color: #E8F0FE;\n",
              "      border: none;\n",
              "      border-radius: 50%;\n",
              "      cursor: pointer;\n",
              "      display: none;\n",
              "      fill: #1967D2;\n",
              "      height: 32px;\n",
              "      padding: 0 0 0 0;\n",
              "      width: 32px;\n",
              "    }\n",
              "\n",
              "    .colab-df-convert:hover {\n",
              "      background-color: #E2EBFA;\n",
              "      box-shadow: 0px 1px 2px rgba(60, 64, 67, 0.3), 0px 1px 3px 1px rgba(60, 64, 67, 0.15);\n",
              "      fill: #174EA6;\n",
              "    }\n",
              "\n",
              "    [theme=dark] .colab-df-convert {\n",
              "      background-color: #3B4455;\n",
              "      fill: #D2E3FC;\n",
              "    }\n",
              "\n",
              "    [theme=dark] .colab-df-convert:hover {\n",
              "      background-color: #434B5C;\n",
              "      box-shadow: 0px 1px 3px 1px rgba(0, 0, 0, 0.15);\n",
              "      filter: drop-shadow(0px 1px 2px rgba(0, 0, 0, 0.3));\n",
              "      fill: #FFFFFF;\n",
              "    }\n",
              "  </style>\n",
              "\n",
              "      <script>\n",
              "        const buttonEl =\n",
              "          document.querySelector('#df-dfad45d7-192c-413a-a6e0-0f946a3c8e7c button.colab-df-convert');\n",
              "        buttonEl.style.display =\n",
              "          google.colab.kernel.accessAllowed ? 'block' : 'none';\n",
              "\n",
              "        async function convertToInteractive(key) {\n",
              "          const element = document.querySelector('#df-dfad45d7-192c-413a-a6e0-0f946a3c8e7c');\n",
              "          const dataTable =\n",
              "            await google.colab.kernel.invokeFunction('convertToInteractive',\n",
              "                                                     [key], {});\n",
              "          if (!dataTable) return;\n",
              "\n",
              "          const docLinkHtml = 'Like what you see? Visit the ' +\n",
              "            '<a target=\"_blank\" href=https://colab.research.google.com/notebooks/data_table.ipynb>data table notebook</a>'\n",
              "            + ' to learn more about interactive tables.';\n",
              "          element.innerHTML = '';\n",
              "          dataTable['output_type'] = 'display_data';\n",
              "          await google.colab.output.renderOutput(dataTable, element);\n",
              "          const docLink = document.createElement('div');\n",
              "          docLink.innerHTML = docLinkHtml;\n",
              "          element.appendChild(docLink);\n",
              "        }\n",
              "      </script>\n",
              "    </div>\n",
              "  </div>\n",
              "  "
            ]
          },
          "metadata": {},
          "execution_count": 110
        }
      ]
    },
    {
      "cell_type": "code",
      "source": [
        "common_epo_filt = common_con_pctnbr[['prio_year', 'pct_nbr']].drop_duplicates()\n",
        "\n",
        "print(common_epo_filt.head())\n",
        "\n",
        "pct_filt = pct[['prio_year', 'pct_nbr']].drop_duplicates()\n",
        "\n",
        "print(pct_filt.head())"
      ],
      "metadata": {
        "colab": {
          "base_uri": "https://localhost:8080/"
        },
        "id": "yjZnoLwTQ91r",
        "outputId": "3ca2e729-0d74-4acb-cd9c-5325df9263cf"
      },
      "execution_count": null,
      "outputs": [
        {
          "output_type": "stream",
          "name": "stdout",
          "text": [
            "     prio_year       pct_nbr\n",
            "0         2002  WO2003064833\n",
            "51        2002  WO2004013868\n",
            "59        2002  WO2004051774\n",
            "71        2004  WO2005083829\n",
            "139       2004  WO2005109551\n",
            "    prio_year       pct_nbr\n",
            "0        1977  WO1978000019\n",
            "2        1977  WO1979000018\n",
            "12       1977  WO1979000028\n",
            "13       1977  WO1979000030\n",
            "17       1977  WO1979000140\n"
          ]
        }
      ]
    },
    {
      "cell_type": "code",
      "source": [
        "# find equal pct_nbr between the two dfs and check if the prio_year is the same \n",
        "\n",
        "tupla1 = zip(common_con_pctnbr['prio_year'], common_con_pctnbr['pct_nbr'])\n",
        "tupla2 = zip(pct_filt['prio_year'], pct_filt['pct_nbr'])"
      ],
      "metadata": {
        "id": "v50Fpr0jRZzY"
      },
      "execution_count": null,
      "outputs": []
    },
    {
      "cell_type": "code",
      "source": [
        "A = set(tupla1) \n",
        "B = set(tupla2)\n",
        "print(len(A.intersection(B)))\n",
        "epo_pct_year_same = A.intersection(B) # 100 patents out of 18.000 don't have the same priority year: good result!"
      ],
      "metadata": {
        "colab": {
          "base_uri": "https://localhost:8080/"
        },
        "id": "BOOtYy-9YfNj",
        "outputId": "bb6b545b-912b-4a22-c100-ba1989a9d31d"
      },
      "execution_count": null,
      "outputs": [
        {
          "output_type": "stream",
          "name": "stdout",
          "text": [
            "18214\n"
          ]
        }
      ]
    },
    {
      "cell_type": "markdown",
      "source": [
        "## Remove overlapping patents in the EPO data "
      ],
      "metadata": {
        "id": "pcrGhALmIcDS"
      }
    },
    {
      "cell_type": "code",
      "source": [
        "if ('EP20020022517' in pct_epo_common):  # test\n",
        "      print(\"Element Exists\")\n",
        "else:\n",
        "        print(\"noooo\")"
      ],
      "metadata": {
        "colab": {
          "base_uri": "https://localhost:8080/"
        },
        "id": "MpFClpyjFhWd",
        "outputId": "31286357-7176-4f0b-9cd6-4e49be022388"
      },
      "execution_count": null,
      "outputs": [
        {
          "output_type": "stream",
          "name": "stdout",
          "text": [
            "noooo\n"
          ]
        }
      ]
    },
    {
      "cell_type": "code",
      "source": [
        "epo_extra = epo[~epo['app_nbr'].isin(pct_epo_common)] # drop matching application numbers from epo aggregated regpat "
      ],
      "metadata": {
        "id": "kLwjivHgEa4z"
      },
      "execution_count": null,
      "outputs": []
    },
    {
      "cell_type": "code",
      "source": [
        "print(len(epo_extra)) \n",
        "\n",
        "len(epo_extra['app_nbr'].unique()) # 9264 patents are direct applications from US to EPO"
      ],
      "metadata": {
        "colab": {
          "base_uri": "https://localhost:8080/"
        },
        "id": "qduPuPQLEslQ",
        "outputId": "05abb669-8001-4e1c-ccc0-6626f91f7120"
      },
      "execution_count": null,
      "outputs": [
        {
          "output_type": "stream",
          "name": "stdout",
          "text": [
            "87904\n"
          ]
        },
        {
          "output_type": "execute_result",
          "data": {
            "text/plain": [
              "9264"
            ]
          },
          "metadata": {},
          "execution_count": 40
        }
      ]
    },
    {
      "cell_type": "markdown",
      "source": [
        "## Concatenate direct EPO patents with PCT patents"
      ],
      "metadata": {
        "id": "1I6-y1SXHXPQ"
      }
    },
    {
      "cell_type": "code",
      "source": [
        "pct = pd.read_csv(\"/content/pct_aggregated.csv\")"
      ],
      "metadata": {
        "id": "PU_nHZ0CyaeL"
      },
      "execution_count": null,
      "outputs": []
    },
    {
      "cell_type": "code",
      "source": [
        "len(pct['appln_id'].unique())"
      ],
      "metadata": {
        "colab": {
          "base_uri": "https://localhost:8080/"
        },
        "id": "y3OGSK01244n",
        "outputId": "40f2071c-ac4d-472a-d09a-f11dba124478"
      },
      "execution_count": null,
      "outputs": [
        {
          "output_type": "execute_result",
          "data": {
            "text/plain": [
              "36313"
            ]
          },
          "metadata": {},
          "execution_count": 26
        }
      ]
    },
    {
      "cell_type": "code",
      "source": [
        "filt_pct = pct[['Up_reg_label', 'prio_year','inv_share', 'appln_id']].drop_duplicates()\n",
        "\n",
        "print(filt_pct.head())\n",
        "\n",
        "filt_epo = epo_extra[['Up_reg_label', 'prio_year','inv_share', 'appln_id']].drop_duplicates()\n",
        "\n",
        "print(filt_epo.head())"
      ],
      "metadata": {
        "id": "I37oriRxzKIn"
      },
      "execution_count": null,
      "outputs": []
    },
    {
      "cell_type": "code",
      "source": [
        "# merge pct patent counts and patent counts from direct applications from us to epo \n",
        "\n",
        "pct_counts = filt_pct.groupby(['Up_reg_label','prio_year', 'appln_id'], as_index = False).inv_share.sum() # create pct counts \n",
        "\n",
        "print(pct_counts.head())\n",
        "\n",
        "direct_epo_counts = filt_epo.groupby(['Up_reg_label','prio_year', 'appln_id'], as_index = False).inv_share.sum() # create direct epo counts\n",
        "\n",
        "print(direct_epo_counts.head())"
      ],
      "metadata": {
        "id": "8wfBtdiOGxSa"
      },
      "execution_count": null,
      "outputs": []
    },
    {
      "cell_type": "code",
      "source": [
        "print(len(pct_counts))\n",
        "print(len(direct_epo_counts))"
      ],
      "metadata": {
        "colab": {
          "base_uri": "https://localhost:8080/"
        },
        "id": "t0OlZo0AJp8a",
        "outputId": "2012f436-22d4-4e0e-eb9a-829e9e2ff991"
      },
      "execution_count": null,
      "outputs": [
        {
          "output_type": "stream",
          "name": "stdout",
          "text": [
            "45519\n",
            "11427\n"
          ]
        }
      ]
    },
    {
      "cell_type": "code",
      "source": [
        "# concatenate the two dataframes \n",
        "\n",
        "pct_direct_epo_all = pd.concat([pct_counts,direct_epo_counts], ignore_index= True, axis = 0)\n",
        "\n",
        "pct_direct_epo_all.head()"
      ],
      "metadata": {
        "id": "_IJEiFzxISi-"
      },
      "execution_count": null,
      "outputs": []
    },
    {
      "cell_type": "code",
      "source": [
        "len(pct_direct_epo_all)\n",
        "\n",
        "print(len(pct_direct_epo_all['appln_id'].unique())) # number of unique patent ids = n of patent applications for single inventions"
      ],
      "metadata": {
        "colab": {
          "base_uri": "https://localhost:8080/"
        },
        "id": "5xJSM1mTJznp",
        "outputId": "5de44ac4-7ede-4a4f-eee1-20923c81c048"
      },
      "execution_count": null,
      "outputs": [
        {
          "output_type": "stream",
          "name": "stdout",
          "text": [
            "45577\n"
          ]
        }
      ]
    },
    {
      "cell_type": "code",
      "source": [
        "pct_direct_epo_all.to_csv('patent_count_pct_direct_epo.csv', index = False, sep = \",\") # save official final dataset to be used for analysis"
      ],
      "metadata": {
        "id": "ZEkOcdMYKVLF"
      },
      "execution_count": null,
      "outputs": []
    },
    {
      "cell_type": "markdown",
      "source": [
        "## Patent count without appln_id"
      ],
      "metadata": {
        "id": "jvTfyzO_LQd7"
      }
    },
    {
      "cell_type": "code",
      "source": [
        "pct_direct_epo_all_counts = pct_direct_epo_all.groupby(['Up_reg_label','prio_year'], as_index = False).inv_share.sum()\n",
        "\n",
        "pct_direct_epo_all_counts.head()\n",
        "\n",
        "pct_direct_epo_all_counts.to_csv('patent_count_pct_direct_epo_counts.csv', index = False, sep = \",\")"
      ],
      "metadata": {
        "id": "hDJzF29cLN1v"
      },
      "execution_count": null,
      "outputs": []
    },
    {
      "cell_type": "markdown",
      "source": [
        "# For graphs"
      ],
      "metadata": {
        "id": "LAv9RuvRKdTZ"
      }
    },
    {
      "cell_type": "code",
      "source": [
        "pct.rename(columns={'pct_nbr': 'app_nbr'}, inplace=True)"
      ],
      "metadata": {
        "id": "vc-lXe4dLFQk"
      },
      "execution_count": null,
      "outputs": []
    },
    {
      "cell_type": "code",
      "source": [
        "# create dataset with all information to create graphs\n",
        "\n",
        "epo_pct_pat = pd.concat([pct, epo_extra], ignore_index=True)\n",
        "\n",
        "epo_pct_pat.tail()"
      ],
      "metadata": {
        "colab": {
          "base_uri": "https://localhost:8080/",
          "height": 206
        },
        "id": "Eokby5vyKnrW",
        "outputId": "2740feff-1d2d-47e7-8137-08b5c196c700"
      },
      "execution_count": null,
      "outputs": [
        {
          "output_type": "execute_result",
          "data": {
            "text/plain": [
              "              app_nbr   appln_id reg_code ctry_code  reg_share  inv_share  \\\n",
              "422684  EP20210188491  555010709  US06085        US        1.0      0.125   \n",
              "422685  EP20210188491  555010709  US25025        US        1.0      0.125   \n",
              "422686  EP20210188491  555010709  US25025        US        1.0      0.125   \n",
              "422687  EP20210188491  555010709  US25025        US        1.0      0.125   \n",
              "422688  EP20210188491  555010709  US25025        US        1.0      0.125   \n",
              "\n",
              "        prio_year  app_year         IPC    CPC_Class               reg_label  \\\n",
              "422684       2015      2016  H04R025/02  Y02E  60/10  Santa Clara County, CA   \n",
              "422685       2015      2016  A61F002/00  Y02E  60/10      Suffolk County, MA   \n",
              "422686       2015      2016  A61F002/18  Y02E  60/10      Suffolk County, MA   \n",
              "422687       2015      2016  H04R025/00  Y02E  60/10      Suffolk County, MA   \n",
              "422688       2015      2016  H04R025/02  Y02E  60/10      Suffolk County, MA   \n",
              "\n",
              "       Up_reg_code   Up_reg_label  \n",
              "422684        US06     California  \n",
              "422685        US25  Massachusetts  \n",
              "422686        US25  Massachusetts  \n",
              "422687        US25  Massachusetts  \n",
              "422688        US25  Massachusetts  "
            ],
            "text/html": [
              "\n",
              "  <div id=\"df-348166ee-52bb-4ab8-94fa-23a06053f6b1\">\n",
              "    <div class=\"colab-df-container\">\n",
              "      <div>\n",
              "<style scoped>\n",
              "    .dataframe tbody tr th:only-of-type {\n",
              "        vertical-align: middle;\n",
              "    }\n",
              "\n",
              "    .dataframe tbody tr th {\n",
              "        vertical-align: top;\n",
              "    }\n",
              "\n",
              "    .dataframe thead th {\n",
              "        text-align: right;\n",
              "    }\n",
              "</style>\n",
              "<table border=\"1\" class=\"dataframe\">\n",
              "  <thead>\n",
              "    <tr style=\"text-align: right;\">\n",
              "      <th></th>\n",
              "      <th>app_nbr</th>\n",
              "      <th>appln_id</th>\n",
              "      <th>reg_code</th>\n",
              "      <th>ctry_code</th>\n",
              "      <th>reg_share</th>\n",
              "      <th>inv_share</th>\n",
              "      <th>prio_year</th>\n",
              "      <th>app_year</th>\n",
              "      <th>IPC</th>\n",
              "      <th>CPC_Class</th>\n",
              "      <th>reg_label</th>\n",
              "      <th>Up_reg_code</th>\n",
              "      <th>Up_reg_label</th>\n",
              "    </tr>\n",
              "  </thead>\n",
              "  <tbody>\n",
              "    <tr>\n",
              "      <th>422684</th>\n",
              "      <td>EP20210188491</td>\n",
              "      <td>555010709</td>\n",
              "      <td>US06085</td>\n",
              "      <td>US</td>\n",
              "      <td>1.0</td>\n",
              "      <td>0.125</td>\n",
              "      <td>2015</td>\n",
              "      <td>2016</td>\n",
              "      <td>H04R025/02</td>\n",
              "      <td>Y02E  60/10</td>\n",
              "      <td>Santa Clara County, CA</td>\n",
              "      <td>US06</td>\n",
              "      <td>California</td>\n",
              "    </tr>\n",
              "    <tr>\n",
              "      <th>422685</th>\n",
              "      <td>EP20210188491</td>\n",
              "      <td>555010709</td>\n",
              "      <td>US25025</td>\n",
              "      <td>US</td>\n",
              "      <td>1.0</td>\n",
              "      <td>0.125</td>\n",
              "      <td>2015</td>\n",
              "      <td>2016</td>\n",
              "      <td>A61F002/00</td>\n",
              "      <td>Y02E  60/10</td>\n",
              "      <td>Suffolk County, MA</td>\n",
              "      <td>US25</td>\n",
              "      <td>Massachusetts</td>\n",
              "    </tr>\n",
              "    <tr>\n",
              "      <th>422686</th>\n",
              "      <td>EP20210188491</td>\n",
              "      <td>555010709</td>\n",
              "      <td>US25025</td>\n",
              "      <td>US</td>\n",
              "      <td>1.0</td>\n",
              "      <td>0.125</td>\n",
              "      <td>2015</td>\n",
              "      <td>2016</td>\n",
              "      <td>A61F002/18</td>\n",
              "      <td>Y02E  60/10</td>\n",
              "      <td>Suffolk County, MA</td>\n",
              "      <td>US25</td>\n",
              "      <td>Massachusetts</td>\n",
              "    </tr>\n",
              "    <tr>\n",
              "      <th>422687</th>\n",
              "      <td>EP20210188491</td>\n",
              "      <td>555010709</td>\n",
              "      <td>US25025</td>\n",
              "      <td>US</td>\n",
              "      <td>1.0</td>\n",
              "      <td>0.125</td>\n",
              "      <td>2015</td>\n",
              "      <td>2016</td>\n",
              "      <td>H04R025/00</td>\n",
              "      <td>Y02E  60/10</td>\n",
              "      <td>Suffolk County, MA</td>\n",
              "      <td>US25</td>\n",
              "      <td>Massachusetts</td>\n",
              "    </tr>\n",
              "    <tr>\n",
              "      <th>422688</th>\n",
              "      <td>EP20210188491</td>\n",
              "      <td>555010709</td>\n",
              "      <td>US25025</td>\n",
              "      <td>US</td>\n",
              "      <td>1.0</td>\n",
              "      <td>0.125</td>\n",
              "      <td>2015</td>\n",
              "      <td>2016</td>\n",
              "      <td>H04R025/02</td>\n",
              "      <td>Y02E  60/10</td>\n",
              "      <td>Suffolk County, MA</td>\n",
              "      <td>US25</td>\n",
              "      <td>Massachusetts</td>\n",
              "    </tr>\n",
              "  </tbody>\n",
              "</table>\n",
              "</div>\n",
              "      <button class=\"colab-df-convert\" onclick=\"convertToInteractive('df-348166ee-52bb-4ab8-94fa-23a06053f6b1')\"\n",
              "              title=\"Convert this dataframe to an interactive table.\"\n",
              "              style=\"display:none;\">\n",
              "        \n",
              "  <svg xmlns=\"http://www.w3.org/2000/svg\" height=\"24px\"viewBox=\"0 0 24 24\"\n",
              "       width=\"24px\">\n",
              "    <path d=\"M0 0h24v24H0V0z\" fill=\"none\"/>\n",
              "    <path d=\"M18.56 5.44l.94 2.06.94-2.06 2.06-.94-2.06-.94-.94-2.06-.94 2.06-2.06.94zm-11 1L8.5 8.5l.94-2.06 2.06-.94-2.06-.94L8.5 2.5l-.94 2.06-2.06.94zm10 10l.94 2.06.94-2.06 2.06-.94-2.06-.94-.94-2.06-.94 2.06-2.06.94z\"/><path d=\"M17.41 7.96l-1.37-1.37c-.4-.4-.92-.59-1.43-.59-.52 0-1.04.2-1.43.59L10.3 9.45l-7.72 7.72c-.78.78-.78 2.05 0 2.83L4 21.41c.39.39.9.59 1.41.59.51 0 1.02-.2 1.41-.59l7.78-7.78 2.81-2.81c.8-.78.8-2.07 0-2.86zM5.41 20L4 18.59l7.72-7.72 1.47 1.35L5.41 20z\"/>\n",
              "  </svg>\n",
              "      </button>\n",
              "      \n",
              "  <style>\n",
              "    .colab-df-container {\n",
              "      display:flex;\n",
              "      flex-wrap:wrap;\n",
              "      gap: 12px;\n",
              "    }\n",
              "\n",
              "    .colab-df-convert {\n",
              "      background-color: #E8F0FE;\n",
              "      border: none;\n",
              "      border-radius: 50%;\n",
              "      cursor: pointer;\n",
              "      display: none;\n",
              "      fill: #1967D2;\n",
              "      height: 32px;\n",
              "      padding: 0 0 0 0;\n",
              "      width: 32px;\n",
              "    }\n",
              "\n",
              "    .colab-df-convert:hover {\n",
              "      background-color: #E2EBFA;\n",
              "      box-shadow: 0px 1px 2px rgba(60, 64, 67, 0.3), 0px 1px 3px 1px rgba(60, 64, 67, 0.15);\n",
              "      fill: #174EA6;\n",
              "    }\n",
              "\n",
              "    [theme=dark] .colab-df-convert {\n",
              "      background-color: #3B4455;\n",
              "      fill: #D2E3FC;\n",
              "    }\n",
              "\n",
              "    [theme=dark] .colab-df-convert:hover {\n",
              "      background-color: #434B5C;\n",
              "      box-shadow: 0px 1px 3px 1px rgba(0, 0, 0, 0.15);\n",
              "      filter: drop-shadow(0px 1px 2px rgba(0, 0, 0, 0.3));\n",
              "      fill: #FFFFFF;\n",
              "    }\n",
              "  </style>\n",
              "\n",
              "      <script>\n",
              "        const buttonEl =\n",
              "          document.querySelector('#df-348166ee-52bb-4ab8-94fa-23a06053f6b1 button.colab-df-convert');\n",
              "        buttonEl.style.display =\n",
              "          google.colab.kernel.accessAllowed ? 'block' : 'none';\n",
              "\n",
              "        async function convertToInteractive(key) {\n",
              "          const element = document.querySelector('#df-348166ee-52bb-4ab8-94fa-23a06053f6b1');\n",
              "          const dataTable =\n",
              "            await google.colab.kernel.invokeFunction('convertToInteractive',\n",
              "                                                     [key], {});\n",
              "          if (!dataTable) return;\n",
              "\n",
              "          const docLinkHtml = 'Like what you see? Visit the ' +\n",
              "            '<a target=\"_blank\" href=https://colab.research.google.com/notebooks/data_table.ipynb>data table notebook</a>'\n",
              "            + ' to learn more about interactive tables.';\n",
              "          element.innerHTML = '';\n",
              "          dataTable['output_type'] = 'display_data';\n",
              "          await google.colab.output.renderOutput(dataTable, element);\n",
              "          const docLink = document.createElement('div');\n",
              "          docLink.innerHTML = docLinkHtml;\n",
              "          element.appendChild(docLink);\n",
              "        }\n",
              "      </script>\n",
              "    </div>\n",
              "  </div>\n",
              "  "
            ]
          },
          "metadata": {},
          "execution_count": 20
        }
      ]
    },
    {
      "cell_type": "code",
      "source": [
        "len(epo_pct_pat)"
      ],
      "metadata": {
        "colab": {
          "base_uri": "https://localhost:8080/"
        },
        "id": "FoFakBYlPtWH",
        "outputId": "f95ecf6d-50c2-490b-e2b6-07d3d5070b1d"
      },
      "execution_count": null,
      "outputs": [
        {
          "output_type": "execute_result",
          "data": {
            "text/plain": [
              "422689"
            ]
          },
          "metadata": {},
          "execution_count": 19
        }
      ]
    },
    {
      "cell_type": "code",
      "source": [
        "epo_pct_pat.to_csv('pct_direct_epo_all_vars.csv', index = False, sep = \",\")"
      ],
      "metadata": {
        "id": "kMLB3tStKg6a"
      },
      "execution_count": null,
      "outputs": []
    }
  ]
}